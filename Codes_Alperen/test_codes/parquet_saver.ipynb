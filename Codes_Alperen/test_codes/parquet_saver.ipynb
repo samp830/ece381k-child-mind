{
 "cells": [
  {
   "metadata": {
    "ExecuteTime": {
     "end_time": "2024-11-13T02:55:48.041516Z",
     "start_time": "2024-11-13T02:55:47.168587Z"
    }
   },
   "cell_type": "code",
   "source": [
    "import pandas as pd\n",
    "\n",
    "# Load the Parquet file\n",
    "df = pd.read_parquet('/Users/ad53533/Desktop/Applied ML/Project/series_train.parquet/id=0a418b57/part-0.parquet')\n",
    "\n",
    "# Save to CSV\n",
    "df.to_csv('/Users/ad53533/Documents/MATLAB/Current-Classes/Applied_ML/parquet_test.csv', index=False)\n"
   ],
   "id": "f51a829d8f74386f",
   "outputs": [],
   "execution_count": 3
  },
  {
   "metadata": {},
   "cell_type": "code",
   "outputs": [],
   "execution_count": null,
   "source": "",
   "id": "760e00358bad8172"
  }
 ],
 "metadata": {
  "kernelspec": {
   "display_name": "Python 3",
   "language": "python",
   "name": "python3"
  },
  "language_info": {
   "codemirror_mode": {
    "name": "ipython",
    "version": 2
   },
   "file_extension": ".py",
   "mimetype": "text/x-python",
   "name": "python",
   "nbconvert_exporter": "python",
   "pygments_lexer": "ipython2",
   "version": "2.7.6"
  }
 },
 "nbformat": 4,
 "nbformat_minor": 5
}
